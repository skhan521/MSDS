{
 "cells": [
  {
   "cell_type": "markdown",
   "metadata": {},
   "source": [
    "## Part 1"
   ]
  },
  {
   "cell_type": "code",
   "execution_count": 67,
   "metadata": {},
   "outputs": [],
   "source": [
    "#Import Packages\n",
    "import os\n",
    "import numpy as np\n",
    "import pandas as pd\n",
    "import math\n",
    "import matplotlib.pyplot as plt\n",
    "import seaborn as sns\n",
    "from sklearn.preprocessing import StandardScaler\n",
    "from sklearn.model_selection import GridSearchCV\n",
    "from sklearn import metrics\n",
    "from sklearn.model_selection import train_test_split\n",
    "from sklearn.model_selection import cross_val_score\n",
    "from sklearn.ensemble import RandomForestClassifier\n",
    "from sklearn.metrics import accuracy_score\n",
    "%matplotlib inline"
   ]
  },
  {
   "cell_type": "code",
   "execution_count": 68,
   "metadata": {},
   "outputs": [],
   "source": [
    "#Import the Data\n",
    "train = pd.read_csv(\"titanic_train.csv\")\n",
    "test = pd.read_csv(\"titanic_test.csv\")"
   ]
  },
  {
   "cell_type": "code",
   "execution_count": 69,
   "metadata": {},
   "outputs": [],
   "source": [
    "#Separate ID column to use for predictions\n",
    "train_ID = train['PassengerId']\n",
    "test_ID = test['PassengerId']\n",
    "\n",
    "#Drop ID column \n",
    "train.drop(\"PassengerId\", axis = 1, inplace = True)\n",
    "test.drop(\"PassengerId\", axis = 1, inplace = True)"
   ]
  },
  {
   "cell_type": "markdown",
   "metadata": {},
   "source": [
    "### EDA from Assignment 2"
   ]
  },
  {
   "cell_type": "code",
   "execution_count": 70,
   "metadata": {},
   "outputs": [
    {
     "data": {
      "text/html": [
       "<div>\n",
       "<style scoped>\n",
       "    .dataframe tbody tr th:only-of-type {\n",
       "        vertical-align: middle;\n",
       "    }\n",
       "\n",
       "    .dataframe tbody tr th {\n",
       "        vertical-align: top;\n",
       "    }\n",
       "\n",
       "    .dataframe thead th {\n",
       "        text-align: right;\n",
       "    }\n",
       "</style>\n",
       "<table border=\"1\" class=\"dataframe\">\n",
       "  <thead>\n",
       "    <tr style=\"text-align: right;\">\n",
       "      <th></th>\n",
       "      <th>Survived</th>\n",
       "      <th>Age</th>\n",
       "      <th>SibSp</th>\n",
       "      <th>Parch</th>\n",
       "      <th>Fare</th>\n",
       "      <th>embarked_C</th>\n",
       "      <th>embarked_Q</th>\n",
       "      <th>embarked_S</th>\n",
       "      <th>sex_female</th>\n",
       "      <th>sex_male</th>\n",
       "      <th>pclass_1</th>\n",
       "      <th>pclass_2</th>\n",
       "      <th>pclass_3</th>\n",
       "    </tr>\n",
       "  </thead>\n",
       "  <tbody>\n",
       "    <tr>\n",
       "      <th>0</th>\n",
       "      <td>0</td>\n",
       "      <td>22.0</td>\n",
       "      <td>1</td>\n",
       "      <td>0</td>\n",
       "      <td>7.2500</td>\n",
       "      <td>0</td>\n",
       "      <td>0</td>\n",
       "      <td>1</td>\n",
       "      <td>0</td>\n",
       "      <td>1</td>\n",
       "      <td>0</td>\n",
       "      <td>0</td>\n",
       "      <td>1</td>\n",
       "    </tr>\n",
       "    <tr>\n",
       "      <th>1</th>\n",
       "      <td>1</td>\n",
       "      <td>38.0</td>\n",
       "      <td>1</td>\n",
       "      <td>0</td>\n",
       "      <td>71.2833</td>\n",
       "      <td>1</td>\n",
       "      <td>0</td>\n",
       "      <td>0</td>\n",
       "      <td>1</td>\n",
       "      <td>0</td>\n",
       "      <td>1</td>\n",
       "      <td>0</td>\n",
       "      <td>0</td>\n",
       "    </tr>\n",
       "    <tr>\n",
       "      <th>2</th>\n",
       "      <td>1</td>\n",
       "      <td>26.0</td>\n",
       "      <td>0</td>\n",
       "      <td>0</td>\n",
       "      <td>7.9250</td>\n",
       "      <td>0</td>\n",
       "      <td>0</td>\n",
       "      <td>1</td>\n",
       "      <td>1</td>\n",
       "      <td>0</td>\n",
       "      <td>0</td>\n",
       "      <td>0</td>\n",
       "      <td>1</td>\n",
       "    </tr>\n",
       "    <tr>\n",
       "      <th>3</th>\n",
       "      <td>1</td>\n",
       "      <td>35.0</td>\n",
       "      <td>1</td>\n",
       "      <td>0</td>\n",
       "      <td>53.1000</td>\n",
       "      <td>0</td>\n",
       "      <td>0</td>\n",
       "      <td>1</td>\n",
       "      <td>1</td>\n",
       "      <td>0</td>\n",
       "      <td>1</td>\n",
       "      <td>0</td>\n",
       "      <td>0</td>\n",
       "    </tr>\n",
       "    <tr>\n",
       "      <th>4</th>\n",
       "      <td>0</td>\n",
       "      <td>35.0</td>\n",
       "      <td>0</td>\n",
       "      <td>0</td>\n",
       "      <td>8.0500</td>\n",
       "      <td>0</td>\n",
       "      <td>0</td>\n",
       "      <td>1</td>\n",
       "      <td>0</td>\n",
       "      <td>1</td>\n",
       "      <td>0</td>\n",
       "      <td>0</td>\n",
       "      <td>1</td>\n",
       "    </tr>\n",
       "  </tbody>\n",
       "</table>\n",
       "</div>"
      ],
      "text/plain": [
       "   Survived   Age  SibSp  Parch     Fare  embarked_C  embarked_Q  embarked_S  \\\n",
       "0         0  22.0      1      0   7.2500           0           0           1   \n",
       "1         1  38.0      1      0  71.2833           1           0           0   \n",
       "2         1  26.0      0      0   7.9250           0           0           1   \n",
       "3         1  35.0      1      0  53.1000           0           0           1   \n",
       "4         0  35.0      0      0   8.0500           0           0           1   \n",
       "\n",
       "   sex_female  sex_male  pclass_1  pclass_2  pclass_3  \n",
       "0           0         1         0         0         1  \n",
       "1           1         0         1         0         0  \n",
       "2           1         0         0         0         1  \n",
       "3           1         0         1         0         0  \n",
       "4           0         1         0         0         1  "
      ]
     },
     "execution_count": 70,
     "metadata": {},
     "output_type": "execute_result"
    }
   ],
   "source": [
    "#Fill Age NAs with median of each class\n",
    "train['Age'] = train['Age'].fillna(train.groupby('Pclass')['Age'].transform('median'))\n",
    "\n",
    "#Drop the Cabin, Name, Ticket variable\n",
    "train = train.drop(columns = [\"Cabin\",\"Name\",\"Ticket\"], axis=1)\n",
    "\n",
    "#Fill embarked NAs with the mode\n",
    "train[\"Embarked\"].fillna(train['Embarked'].value_counts().idxmax(), inplace=True)\n",
    "\n",
    "#Encode Categorical Variables\n",
    "df_embarked = pd.get_dummies(train['Embarked'], \n",
    "                                     prefix='embarked')\n",
    "\n",
    "df_sex = pd.get_dummies(train['Sex'], \n",
    "                                prefix='sex')\n",
    "\n",
    "df_plcass = pd.get_dummies(train['Pclass'], \n",
    "                                   prefix='pclass')\n",
    "\n",
    "#Add encoded variables back to data\n",
    "train_encod = pd.concat([train, \n",
    "                        df_embarked, \n",
    "                        df_sex, \n",
    "                        df_plcass], axis=1)\n",
    "train_encod.head()\n",
    "\n",
    "# Drop the original categorical columns because they have been encoded\n",
    "train = train_encod.drop(['Pclass', 'Sex', 'Embarked'], axis=1)\n",
    "train.head()"
   ]
  },
  {
   "cell_type": "code",
   "execution_count": 71,
   "metadata": {},
   "outputs": [
    {
     "name": "stdout",
     "output_type": "stream",
     "text": [
      "(712, 12)\n",
      "(179, 12)\n"
     ]
    }
   ],
   "source": [
    "#Split Data into Training/Test Sets\n",
    "np.random.seed(42)\n",
    "\n",
    "\n",
    "Y = train[\"Survived\"]\n",
    "X = train.drop(\"Survived\",axis=1)\n",
    "\n",
    "X_train, X_val, Y_train, Y_val = train_test_split(X, Y, train_size=0.8, random_state=42)\n",
    "print(X_train.shape)\n",
    "print(X_val.shape)"
   ]
  },
  {
   "cell_type": "markdown",
   "metadata": {},
   "source": [
    "### Random Forest Model"
   ]
  },
  {
   "cell_type": "code",
   "execution_count": 72,
   "metadata": {},
   "outputs": [],
   "source": [
    "#Create model instance \n",
    "rfc=RandomForestClassifier(random_state=42)\n",
    "\n",
    "#Parameter Grid for tuning\n",
    "param_grid = { \n",
    "    'n_estimators': [100,200,300,400,500],\n",
    "    'max_features': ['auto', 'sqrt', 'log2'],\n",
    "    'max_depth' : [4,5,6,7,8],\n",
    "    'criterion' :['gini', 'entropy'],\n",
    "    'min_samples_split': [2,4,8,12,16,20],\n",
    "    'bootstrap' : [True, False]\n",
    "}"
   ]
  },
  {
   "cell_type": "code",
   "execution_count": 73,
   "metadata": {},
   "outputs": [],
   "source": [
    "#Initiate gridsearch and fit model\n",
    "#gs_rfc = GridSearchCV(estimator=rfc, param_grid=param_grid, cv=5)\n",
    "#gs_rfc.fit(X_train, Y_train)"
   ]
  },
  {
   "cell_type": "code",
   "execution_count": 74,
   "metadata": {},
   "outputs": [],
   "source": [
    "#Best Params\n",
    "#gs_rfc.best_params_"
   ]
  },
  {
   "cell_type": "markdown",
   "metadata": {},
   "source": [
    "After using GridSearch for Hyperparameter tuning, the optimal values for the 6 chosen hyperparameters were: \n",
    "\n",
    "'bootstrap': False,\n",
    " 'criterion': 'gini',\n",
    " 'max_depth': 6,\n",
    " 'max_features': 'auto',\n",
    " 'min_samples_split': 8,\n",
    " 'n_estimators': 200"
   ]
  },
  {
   "cell_type": "code",
   "execution_count": 75,
   "metadata": {},
   "outputs": [],
   "source": [
    "#Create new RF model using tuned hyperparameters\n",
    "rfc_final = RandomForestClassifier(random_state=42,bootstrap=False,criterion='gini',max_depth=6,\n",
    "                                   max_features='auto',min_samples_split=8,n_estimators=200)\n",
    "rfc_final.fit(X_train, Y_train)\n",
    "\n",
    "#Predictions\n",
    "rfc_pred_train = rfc_final.predict(X_train)\n",
    "rfc_pred_val = rfc_final.predict(X_val)"
   ]
  },
  {
   "cell_type": "code",
   "execution_count": 76,
   "metadata": {},
   "outputs": [
    {
     "name": "stdout",
     "output_type": "stream",
     "text": [
      "Accuracy Score of Random Forest:  0.8272234807446075\n"
     ]
    }
   ],
   "source": [
    "#Accuracy Score for RF Classifier using the average of 5-fold cross validation\n",
    "rfc_score = cross_val_score(rfc_final, X_train, Y_train, cv=5).mean()\n",
    "print(\"Accuracy Score of Random Forest: \",rfc_score)"
   ]
  },
  {
   "cell_type": "code",
   "execution_count": 77,
   "metadata": {},
   "outputs": [
    {
     "data": {
      "image/png": "[encoded data removed]",
      "text/plain": [
       "<Figure size 432x288 with 2 Axes>"
      ]
     },
     "metadata": {
      "needs_background": "light"
     },
     "output_type": "display_data"
    }
   ],
   "source": [
    "#Confusion Matrix\n",
    "from sklearn.metrics import confusion_matrix, ConfusionMatrixDisplay\n",
    "cm = confusion_matrix(Y_val,rfc_pred)\n",
    "matrix = ConfusionMatrixDisplay(confusion_matrix=cm)\n",
    "matrix.plot()\n",
    "plt.show()"
   ]
  },
  {
   "cell_type": "code",
   "execution_count": 78,
   "metadata": {},
   "outputs": [
    {
     "name": "stdout",
     "output_type": "stream",
     "text": [
      "              precision    recall  f1-score   support\n",
      "\n",
      "           0       0.81      0.90      0.85       105\n",
      "           1       0.84      0.69      0.76        74\n",
      "\n",
      "    accuracy                           0.82       179\n",
      "   macro avg       0.82      0.80      0.80       179\n",
      "weighted avg       0.82      0.82      0.81       179\n",
      "\n"
     ]
    }
   ],
   "source": [
    "#Precision/Recall \n",
    "from sklearn.metrics import classification_report, plot_confusion_matrix, accuracy_score, precision_score, recall_score\n",
    "print(classification_report(Y_val,rfc_pred))"
   ]
  },
  {
   "cell_type": "markdown",
   "metadata": {},
   "source": [
    "Even with extensive hyperparameter tuning, our results are about the same as the ones from last week's assignment using Logistic Regression/LDA/KNN. The model has good metrics for predicting passengers that did not survive but struggles with predicting passengers that did survive. Hopefully we will see improved results using Gradient Boosted Trees. "
   ]
  },
  {
   "cell_type": "markdown",
   "metadata": {},
   "source": [
    "### Gradient Boosted Tree Classifier"
   ]
  },
  {
   "cell_type": "code",
   "execution_count": 79,
   "metadata": {},
   "outputs": [],
   "source": [
    "from sklearn.ensemble import GradientBoostingClassifier\n",
    "\n",
    "#Initiate GBC model\n",
    "gbc = GradientBoostingClassifier(random_state=42)\n",
    "\n",
    "#Parameter grid for gradient boosted trees\n",
    "#Include hyperparameter for learning rate\n",
    "gbc_param_grid = { \n",
    "    'n_estimators': [100,200,300,400,500],\n",
    "    'learning_rate' : [0.05, 0.1, 0.25, 0.5, 0.75, 1],\n",
    "    'max_depth' : [4,5,6,7,8],\n",
    "    'min_samples_split': [4,6,8,10]\n",
    "}"
   ]
  },
  {
   "cell_type": "code",
   "execution_count": 80,
   "metadata": {},
   "outputs": [],
   "source": [
    "#gs_gbc = GridSearchCV(estimator=gbc, param_grid=gbc_param_grid, cv=5)\n",
    "#gs_gbc.fit(X_train, Y_train)"
   ]
  },
  {
   "cell_type": "code",
   "execution_count": 81,
   "metadata": {},
   "outputs": [],
   "source": [
    "#Best Params\n",
    "#gs_gbc.best_params_"
   ]
  },
  {
   "cell_type": "markdown",
   "metadata": {},
   "source": [
    "After using GridSearch for Hyperparameter tuning, the optimal values for the 4 hyperparameters were: \n",
    "\n",
    "{'learning_rate': 0.05,\n",
    " 'max_depth': 4,\n",
    " 'min_samples_split': 8,\n",
    " 'n_estimators': 300}"
   ]
  },
  {
   "cell_type": "code",
   "execution_count": 82,
   "metadata": {},
   "outputs": [],
   "source": [
    "#Create new GBC model using tuned hyperparameters\n",
    "gbc_final = GradientBoostingClassifier(random_state=42,learning_rate = 0.05, max_depth = 4, \n",
    "                                       min_samples_split = 8,n_estimators = 300)\n",
    "gbc_final.fit(X_train, Y_train)\n",
    "\n",
    "#Predictions\n",
    "gbc_pred_train = gbc_final.predict(X_train)\n",
    "gbc_pred_val = gbc_final.predict(X_val)"
   ]
  },
  {
   "cell_type": "code",
   "execution_count": 83,
   "metadata": {},
   "outputs": [
    {
     "name": "stdout",
     "output_type": "stream",
     "text": [
      "Accuracy Score of Gradient Boosted Trees:  0.8230670737712991\n"
     ]
    }
   ],
   "source": [
    "#Accuracy Score for GBT Classifier using the average of 5-fold cross validation\n",
    "gbc_score = cross_val_score(gbc_final, X_train, Y_train, cv=5).mean()\n",
    "print(\"Accuracy Score of Gradient Boosted Trees: \",gbc_score)"
   ]
  },
  {
   "cell_type": "code",
   "execution_count": 84,
   "metadata": {},
   "outputs": [
    {
     "data": {
      "image/png": "[encoded data removed]",
      "text/plain": [
       "<Figure size 432x288 with 2 Axes>"
      ]
     },
     "metadata": {
      "needs_background": "light"
     },
     "output_type": "display_data"
    }
   ],
   "source": [
    "#Confusion Matrix\n",
    "from sklearn.metrics import confusion_matrix, ConfusionMatrixDisplay\n",
    "cm = confusion_matrix(Y_val,gbc_pred)\n",
    "matrix = ConfusionMatrixDisplay(confusion_matrix=cm)\n",
    "matrix.plot()\n",
    "plt.show()"
   ]
  },
  {
   "cell_type": "code",
   "execution_count": 85,
   "metadata": {},
   "outputs": [
    {
     "name": "stdout",
     "output_type": "stream",
     "text": [
      "              precision    recall  f1-score   support\n",
      "\n",
      "           0       0.83      0.91      0.87       105\n",
      "           1       0.86      0.74      0.80        74\n",
      "\n",
      "    accuracy                           0.84       179\n",
      "   macro avg       0.85      0.83      0.83       179\n",
      "weighted avg       0.84      0.84      0.84       179\n",
      "\n"
     ]
    }
   ],
   "source": [
    "from sklearn.metrics import classification_report, plot_confusion_matrix, accuracy_score, precision_score, recall_score, f1_score\n",
    "print(classification_report(Y_val,gbc_pred))"
   ]
  },
  {
   "cell_type": "markdown",
   "metadata": {},
   "source": [
    "The gradient boosted tree classifier model performs slightly better than the RF model, but barely so. After browsing through a few Kaggle notebookes using similar modeling techniques, I see that most people are expeiencing similar problems and struggling to increase the F1 score for 'survived' above the 0.80-0.85 range. Perhaps more hyperparameter tuning or data preprocessing is required since the results have been largely unchanged in the combined 5 models used in assignment 2 and this assignment. "
   ]
  },
  {
   "cell_type": "markdown",
   "metadata": {},
   "source": [
    "### Model Comparison"
   ]
  },
  {
   "cell_type": "code",
   "execution_count": 86,
   "metadata": {},
   "outputs": [],
   "source": [
    "#Function that computes model metrics \n",
    "def modMetrics(modName,predTrain,yTrain,predVal,yVal):\n",
    "\n",
    "    metDict={'model':modName,   \n",
    "              'F1 Score (Train)':f1_score(yTrain,predTrain),\n",
    "              'F1 Score (Val)':f1_score(yVal,predVal),\n",
    "              'Precision (Train)':precision_score(yTrain,predTrain),\n",
    "              'Precision (Val)':precision_score(yVal,predVal),\n",
    "              'Recall (Train)':recall_score(yTrain,predTrain),\n",
    "              'Recall (Val)':recall_score(yVal,predVal)\n",
    "            }\n",
    "    return metDict   "
   ]
  },
  {
   "cell_type": "code",
   "execution_count": 87,
   "metadata": {},
   "outputs": [],
   "source": [
    "RF_metrics = modMetrics(\"Random Forest\",rfc_pred_train,Y_train,rfc_pred_val,Y_val)\n",
    "GBC_metrics = modMetrics(\"Gradient Boosted Trees\",gbc_pred_train,Y_train,gbc_pred_val,Y_val)"
   ]
  },
  {
   "cell_type": "code",
   "execution_count": 88,
   "metadata": {},
   "outputs": [
    {
     "data": {
      "text/html": [
       "<div>\n",
       "<style scoped>\n",
       "    .dataframe tbody tr th:only-of-type {\n",
       "        vertical-align: middle;\n",
       "    }\n",
       "\n",
       "    .dataframe tbody tr th {\n",
       "        vertical-align: top;\n",
       "    }\n",
       "\n",
       "    .dataframe thead th {\n",
       "        text-align: right;\n",
       "    }\n",
       "</style>\n",
       "<table border=\"1\" class=\"dataframe\">\n",
       "  <thead>\n",
       "    <tr style=\"text-align: right;\">\n",
       "      <th></th>\n",
       "      <th>model</th>\n",
       "      <th>F1 Score (Train)</th>\n",
       "      <th>F1 Score (Val)</th>\n",
       "      <th>Precision (Train)</th>\n",
       "      <th>Precision (Val)</th>\n",
       "      <th>Recall (Train)</th>\n",
       "      <th>Recall (Val)</th>\n",
       "    </tr>\n",
       "  </thead>\n",
       "  <tbody>\n",
       "    <tr>\n",
       "      <th>0</th>\n",
       "      <td>Random Forest</td>\n",
       "      <td>0.800000</td>\n",
       "      <td>0.755556</td>\n",
       "      <td>0.917874</td>\n",
       "      <td>0.836066</td>\n",
       "      <td>0.708955</td>\n",
       "      <td>0.689189</td>\n",
       "    </tr>\n",
       "    <tr>\n",
       "      <th>1</th>\n",
       "      <td>Gradient Boosted Trees</td>\n",
       "      <td>0.923679</td>\n",
       "      <td>0.797101</td>\n",
       "      <td>0.971193</td>\n",
       "      <td>0.859375</td>\n",
       "      <td>0.880597</td>\n",
       "      <td>0.743243</td>\n",
       "    </tr>\n",
       "  </tbody>\n",
       "</table>\n",
       "</div>"
      ],
      "text/plain": [
       "                    model  F1 Score (Train)  F1 Score (Val)  \\\n",
       "0           Random Forest          0.800000        0.755556   \n",
       "1  Gradient Boosted Trees          0.923679        0.797101   \n",
       "\n",
       "   Precision (Train)  Precision (Val)  Recall (Train)  Recall (Val)  \n",
       "0           0.917874         0.836066        0.708955      0.689189  \n",
       "1           0.971193         0.859375        0.880597      0.743243  "
      ]
     },
     "execution_count": 88,
     "metadata": {},
     "output_type": "execute_result"
    }
   ],
   "source": [
    "#Create comparison table\n",
    "modList=[]\n",
    "modList.append(RF_metrics)\n",
    "modList.append(GBC_metrics)\n",
    "pd.DataFrame(modList)"
   ]
  },
  {
   "cell_type": "markdown",
   "metadata": {},
   "source": [
    "This comparison table clearl shows that the Gradient Boosted Trees model performs better than the Random Forest model on both the training and validation sets. There is a greater difference in values between training and test sets for the Gradient boosted model which could indicate some minor overfitting, but the performance drop-off is not enough to claim that the model will not generalize well. We will use the Gradient Boosted Trees model for the test set kaggle predictions. "
   ]
  },
  {
   "cell_type": "markdown",
   "metadata": {},
   "source": [
    "## Test Set Kaggle Predictions"
   ]
  },
  {
   "cell_type": "code",
   "execution_count": 89,
   "metadata": {},
   "outputs": [
    {
     "data": {
      "text/html": [
       "<div>\n",
       "<style scoped>\n",
       "    .dataframe tbody tr th:only-of-type {\n",
       "        vertical-align: middle;\n",
       "    }\n",
       "\n",
       "    .dataframe tbody tr th {\n",
       "        vertical-align: top;\n",
       "    }\n",
       "\n",
       "    .dataframe thead th {\n",
       "        text-align: right;\n",
       "    }\n",
       "</style>\n",
       "<table border=\"1\" class=\"dataframe\">\n",
       "  <thead>\n",
       "    <tr style=\"text-align: right;\">\n",
       "      <th></th>\n",
       "      <th>Age</th>\n",
       "      <th>SibSp</th>\n",
       "      <th>Parch</th>\n",
       "      <th>Fare</th>\n",
       "      <th>embarked_C</th>\n",
       "      <th>embarked_Q</th>\n",
       "      <th>embarked_S</th>\n",
       "      <th>sex_female</th>\n",
       "      <th>sex_male</th>\n",
       "      <th>pclass_1</th>\n",
       "      <th>pclass_2</th>\n",
       "      <th>pclass_3</th>\n",
       "    </tr>\n",
       "  </thead>\n",
       "  <tbody>\n",
       "    <tr>\n",
       "      <th>0</th>\n",
       "      <td>34.5</td>\n",
       "      <td>0</td>\n",
       "      <td>0</td>\n",
       "      <td>7.8292</td>\n",
       "      <td>0</td>\n",
       "      <td>1</td>\n",
       "      <td>0</td>\n",
       "      <td>0</td>\n",
       "      <td>1</td>\n",
       "      <td>0</td>\n",
       "      <td>0</td>\n",
       "      <td>1</td>\n",
       "    </tr>\n",
       "    <tr>\n",
       "      <th>1</th>\n",
       "      <td>47.0</td>\n",
       "      <td>1</td>\n",
       "      <td>0</td>\n",
       "      <td>7.0000</td>\n",
       "      <td>0</td>\n",
       "      <td>0</td>\n",
       "      <td>1</td>\n",
       "      <td>1</td>\n",
       "      <td>0</td>\n",
       "      <td>0</td>\n",
       "      <td>0</td>\n",
       "      <td>1</td>\n",
       "    </tr>\n",
       "    <tr>\n",
       "      <th>2</th>\n",
       "      <td>62.0</td>\n",
       "      <td>0</td>\n",
       "      <td>0</td>\n",
       "      <td>9.6875</td>\n",
       "      <td>0</td>\n",
       "      <td>1</td>\n",
       "      <td>0</td>\n",
       "      <td>0</td>\n",
       "      <td>1</td>\n",
       "      <td>0</td>\n",
       "      <td>1</td>\n",
       "      <td>0</td>\n",
       "    </tr>\n",
       "    <tr>\n",
       "      <th>3</th>\n",
       "      <td>27.0</td>\n",
       "      <td>0</td>\n",
       "      <td>0</td>\n",
       "      <td>8.6625</td>\n",
       "      <td>0</td>\n",
       "      <td>0</td>\n",
       "      <td>1</td>\n",
       "      <td>0</td>\n",
       "      <td>1</td>\n",
       "      <td>0</td>\n",
       "      <td>0</td>\n",
       "      <td>1</td>\n",
       "    </tr>\n",
       "    <tr>\n",
       "      <th>4</th>\n",
       "      <td>22.0</td>\n",
       "      <td>1</td>\n",
       "      <td>1</td>\n",
       "      <td>12.2875</td>\n",
       "      <td>0</td>\n",
       "      <td>0</td>\n",
       "      <td>1</td>\n",
       "      <td>1</td>\n",
       "      <td>0</td>\n",
       "      <td>0</td>\n",
       "      <td>0</td>\n",
       "      <td>1</td>\n",
       "    </tr>\n",
       "  </tbody>\n",
       "</table>\n",
       "</div>"
      ],
      "text/plain": [
       "    Age  SibSp  Parch     Fare  embarked_C  embarked_Q  embarked_S  \\\n",
       "0  34.5      0      0   7.8292           0           1           0   \n",
       "1  47.0      1      0   7.0000           0           0           1   \n",
       "2  62.0      0      0   9.6875           0           1           0   \n",
       "3  27.0      0      0   8.6625           0           0           1   \n",
       "4  22.0      1      1  12.2875           0           0           1   \n",
       "\n",
       "   sex_female  sex_male  pclass_1  pclass_2  pclass_3  \n",
       "0           0         1         0         0         1  \n",
       "1           1         0         0         0         1  \n",
       "2           0         1         0         1         0  \n",
       "3           0         1         0         0         1  \n",
       "4           1         0         0         0         1  "
      ]
     },
     "execution_count": 89,
     "metadata": {},
     "output_type": "execute_result"
    }
   ],
   "source": [
    "#Transform Test Set\n",
    "#Fill Age NAs with median of each class\n",
    "test['Age'] = test['Age'].fillna(test.groupby('Pclass')['Age'].transform('median'))\n",
    "\n",
    "#Drop the Cabin, Name, Ticket variable\n",
    "test = test.drop(columns = [\"Cabin\",\"Name\",\"Ticket\"], axis=1)\n",
    "\n",
    "#Fill embarked NAs with the mode\n",
    "test[\"Embarked\"].fillna(test['Embarked'].value_counts().idxmax(), inplace=True)\n",
    "\n",
    "#Fill fare NAs with median\n",
    "test[\"Fare\"] = test[\"Fare\"].fillna(test[\"Fare\"].median())\n",
    "\n",
    "#Encode Categorical Variables\n",
    "df_embarked = pd.get_dummies(test['Embarked'], \n",
    "                                     prefix='embarked')\n",
    "\n",
    "df_sex = pd.get_dummies(test['Sex'], \n",
    "                                prefix='sex')\n",
    "\n",
    "df_plcass = pd.get_dummies(test['Pclass'], \n",
    "                                   prefix='pclass')\n",
    "\n",
    "#Add encoded variables back to data\n",
    "test_encod = pd.concat([test, \n",
    "                        df_embarked, \n",
    "                        df_sex, \n",
    "                        df_plcass], axis=1)\n",
    "test_encod.head()\n",
    "\n",
    "# Drop the original categorical columns because they have been encoded\n",
    "test = test_encod.drop(['Pclass', 'Sex', 'Embarked'], axis=1)\n",
    "test.head()"
   ]
  },
  {
   "cell_type": "code",
   "execution_count": 90,
   "metadata": {},
   "outputs": [],
   "source": [
    "#GBC Test PRedictions\n",
    "gbc_predictions = gbc_final.predict(test)\n",
    "\n",
    "gbc_df = pd.DataFrame()\n",
    "gbc_df[\"PassengerId\"] = test_ID\n",
    "gbc_df[\"Survived\"] = gbc_predictions"
   ]
  },
  {
   "cell_type": "code",
   "execution_count": 91,
   "metadata": {},
   "outputs": [],
   "source": [
    "#Export to CSV\n",
    "gbc_df.to_csv(\"GBC Predictions.csv\",index=False)"
   ]
  }
 ],
 "metadata": {
  "kernelspec": {
   "display_name": "Python 3",
   "language": "python",
   "name": "python3"
  },
  "language_info": {
   "codemirror_mode": {
    "name": "ipython",
    "version": 3
   },
   "file_extension": ".py",
   "mimetype": "text/x-python",
   "name": "python",
   "nbconvert_exporter": "python",
   "pygments_lexer": "ipython3",
   "version": "3.8.3"
  }
 },
 "nbformat": 4,
 "nbformat_minor": 4
}
