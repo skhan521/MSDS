{
 "cells": [
  {
   "cell_type": "markdown",
   "metadata": {},
   "source": [
    "# MSDS 422 Assignment 4 Part 2"
   ]
  },
  {
   "cell_type": "code",
   "execution_count": 178,
   "metadata": {},
   "outputs": [],
   "source": [
    "#Import Packages\n",
    "import os\n",
    "import time\n",
    "import numpy as np\n",
    "import pandas as pd\n",
    "import glob\n",
    "import pickle\n",
    "from tensorflow.keras.preprocessing.text import Tokenizer\n",
    "from sklearn.model_selection import train_test_split\n",
    "import matplotlib.pyplot as plt\n",
    "import tensorflow as tf\n",
    "from tensorflow import keras\n",
    "from tensorflow.keras.utils import plot_model\n",
    "from tensorflow.keras.models import Sequential\n",
    "from tensorflow.keras.layers import Embedding, Flatten, Dense\n",
    "from tensorflow.keras.preprocessing.sequence import pad_sequences"
   ]
  },
  {
   "cell_type": "code",
   "execution_count": 202,
   "metadata": {},
   "outputs": [
    {
     "data": {
      "text/html": [
       "<div>\n",
       "<style scoped>\n",
       "    .dataframe tbody tr th:only-of-type {\n",
       "        vertical-align: middle;\n",
       "    }\n",
       "\n",
       "    .dataframe tbody tr th {\n",
       "        vertical-align: top;\n",
       "    }\n",
       "\n",
       "    .dataframe thead th {\n",
       "        text-align: right;\n",
       "    }\n",
       "</style>\n",
       "<table border=\"1\" class=\"dataframe\">\n",
       "  <thead>\n",
       "    <tr style=\"text-align: right;\">\n",
       "      <th></th>\n",
       "      <th>id</th>\n",
       "      <th>keyword</th>\n",
       "      <th>location</th>\n",
       "      <th>text</th>\n",
       "      <th>target</th>\n",
       "    </tr>\n",
       "  </thead>\n",
       "  <tbody>\n",
       "    <tr>\n",
       "      <th>0</th>\n",
       "      <td>1</td>\n",
       "      <td>NaN</td>\n",
       "      <td>NaN</td>\n",
       "      <td>Our Deeds are the Reason of this #earthquake M...</td>\n",
       "      <td>1</td>\n",
       "    </tr>\n",
       "    <tr>\n",
       "      <th>1</th>\n",
       "      <td>4</td>\n",
       "      <td>NaN</td>\n",
       "      <td>NaN</td>\n",
       "      <td>Forest fire near La Ronge Sask. Canada</td>\n",
       "      <td>1</td>\n",
       "    </tr>\n",
       "    <tr>\n",
       "      <th>2</th>\n",
       "      <td>5</td>\n",
       "      <td>NaN</td>\n",
       "      <td>NaN</td>\n",
       "      <td>All residents asked to 'shelter in place' are ...</td>\n",
       "      <td>1</td>\n",
       "    </tr>\n",
       "    <tr>\n",
       "      <th>3</th>\n",
       "      <td>6</td>\n",
       "      <td>NaN</td>\n",
       "      <td>NaN</td>\n",
       "      <td>13,000 people receive #wildfires evacuation or...</td>\n",
       "      <td>1</td>\n",
       "    </tr>\n",
       "    <tr>\n",
       "      <th>4</th>\n",
       "      <td>7</td>\n",
       "      <td>NaN</td>\n",
       "      <td>NaN</td>\n",
       "      <td>Just got sent this photo from Ruby #Alaska as ...</td>\n",
       "      <td>1</td>\n",
       "    </tr>\n",
       "  </tbody>\n",
       "</table>\n",
       "</div>"
      ],
      "text/plain": [
       "   id keyword location                                               text  \\\n",
       "0   1     NaN      NaN  Our Deeds are the Reason of this #earthquake M...   \n",
       "1   4     NaN      NaN             Forest fire near La Ronge Sask. Canada   \n",
       "2   5     NaN      NaN  All residents asked to 'shelter in place' are ...   \n",
       "3   6     NaN      NaN  13,000 people receive #wildfires evacuation or...   \n",
       "4   7     NaN      NaN  Just got sent this photo from Ruby #Alaska as ...   \n",
       "\n",
       "   target  \n",
       "0       1  \n",
       "1       1  \n",
       "2       1  \n",
       "3       1  \n",
       "4       1  "
      ]
     },
     "execution_count": 202,
     "metadata": {},
     "output_type": "execute_result"
    }
   ],
   "source": [
    "#Read Data\n",
    "train = pd.read_csv(\"Downloads/disaster_train.csv\")\n",
    "test = pd.read_csv(\"Downloads/disaster_test.csv\")\n",
    "train.head()"
   ]
  },
  {
   "cell_type": "code",
   "execution_count": 180,
   "metadata": {},
   "outputs": [
    {
     "name": "stdout",
     "output_type": "stream",
     "text": [
      "(7613, 5)\n"
     ]
    },
    {
     "data": {
      "text/plain": [
       "id             0\n",
       "keyword       61\n",
       "location    2533\n",
       "text           0\n",
       "target         0\n",
       "dtype: int64"
      ]
     },
     "execution_count": 180,
     "metadata": {},
     "output_type": "execute_result"
    }
   ],
   "source": [
    "#Examine data/check for missing values\n",
    "print(train.shape)\n",
    "train.isna().sum()"
   ]
  },
  {
   "cell_type": "code",
   "execution_count": 181,
   "metadata": {},
   "outputs": [],
   "source": [
    "#Save ID column for kaggle submission\n",
    "test_id = test['id']"
   ]
  },
  {
   "cell_type": "code",
   "execution_count": 182,
   "metadata": {},
   "outputs": [],
   "source": [
    "#Split Data into Train/Test set\n",
    "X_train, X_test, y_train, y_test = train_test_split(train['text'], train['target'], test_size=0.2, random_state=42)"
   ]
  },
  {
   "cell_type": "markdown",
   "metadata": {},
   "source": [
    "## Model 1: Word Embeddings while Training"
   ]
  },
  {
   "cell_type": "code",
   "execution_count": 183,
   "metadata": {},
   "outputs": [],
   "source": [
    "#10,000 words will be kept\n",
    "vocab_size = 10000\n",
    "#Max length of token word\n",
    "max_length = 50\n",
    "#Removes values at end of sequence if over max_length\n",
    "trunc_type='post'\n",
    "#Used to replace out of vocab words\n",
    "oov_tok = \"<OOV>\"\n",
    "\n",
    "# Tokenization\n",
    "tokenizer = Tokenizer(num_words = vocab_size, oov_token=oov_tok)\n",
    "tokenizer.fit_on_texts(X_train)\n",
    "\n",
    "word_index = tokenizer.word_index\n",
    "sequences = tokenizer.texts_to_sequences(X_train)\n",
    "testing_sequences = tokenizer.texts_to_sequences(X_test)\n",
    "\n",
    "# Padding\n",
    "padded = pad_sequences(sequences, maxlen=max_length, truncating=trunc_type)\n",
    "testing_padded = pad_sequences(testing_sequences, maxlen=max_length)"
   ]
  },
  {
   "cell_type": "code",
   "execution_count": 184,
   "metadata": {},
   "outputs": [
    {
     "name": "stdout",
     "output_type": "stream",
     "text": [
      "Train padded shape: (6090, 50)\n",
      "Test padded shape: (1523, 50)\n"
     ]
    }
   ],
   "source": [
    "print(f'Train padded shape: {padded.shape}')\n",
    "print(f'Test padded shape: {testing_padded.shape}')"
   ]
  },
  {
   "cell_type": "code",
   "execution_count": 185,
   "metadata": {},
   "outputs": [
    {
     "name": "stdout",
     "output_type": "stream",
     "text": [
      "Model: \"sequential_23\"\n",
      "_________________________________________________________________\n",
      " Layer (type)                Output Shape              Param #   \n",
      "=================================================================\n",
      " embedding_23 (Embedding)    (None, None, 64)          640000    \n",
      "                                                                 \n",
      " lstm_21 (LSTM)              (None, 64)                33024     \n",
      "                                                                 \n",
      " dense_37 (Dense)            (None, 64)                4160      \n",
      "                                                                 \n",
      " dense_38 (Dense)            (None, 1)                 65        \n",
      "                                                                 \n",
      "=================================================================\n",
      "Total params: 677,249\n",
      "Trainable params: 677,249\n",
      "Non-trainable params: 0\n",
      "_________________________________________________________________\n"
     ]
    }
   ],
   "source": [
    "# Model with LSTM\n",
    "start1 = time.time()\n",
    "model1 = tf.keras.Sequential([\n",
    "    tf.keras.layers.Embedding(vocab_size, 64),\n",
    "    tf.keras.layers.LSTM(64),\n",
    "    tf.keras.layers.Dense(64, activation='relu'),\n",
    "    tf.keras.layers.Dense(1, activation='sigmoid')\n",
    "])\n",
    "model1.compile(loss='binary_crossentropy',optimizer='adam',metrics=['accuracy'])\n",
    "model1.summary()\n",
    "\n",
    "#history_lstm = model1.fit(padded, y_train, epochs=30, validation_data=(testing_padded, y_test), verbose=0)\n",
    "end1 = time.time()\n",
    "time1 = end1-start1"
   ]
  },
  {
   "cell_type": "code",
   "execution_count": 186,
   "metadata": {},
   "outputs": [
    {
     "data": {
      "image/png": "[encoded data removed]",
      "text/plain": [
       "<Figure size 432x288 with 1 Axes>"
      ]
     },
     "metadata": {
      "needs_background": "light"
     },
     "output_type": "display_data"
    },
    {
     "data": {
      "image/png": "[encoded data removed]",
      "text/plain": [
       "<Figure size 432x288 with 1 Axes>"
      ]
     },
     "metadata": {
      "needs_background": "light"
     },
     "output_type": "display_data"
    }
   ],
   "source": [
    "acc1 = history_lstm.history['accuracy']\n",
    "val_acc1 = history_lstm.history['val_accuracy']\n",
    "loss1 = history_lstm.history['loss']\n",
    "val_loss1 = history_lstm.history['val_loss']\n",
    "epochs = range(1, len(acc1) + 1)\n",
    "plt.plot(epochs, acc1, 'g', label='Training acc')\n",
    "plt.plot(epochs, val_acc1, 'r', label='Validation acc')\n",
    "plt.title('Training and validation accuracy')\n",
    "plt.legend()\n",
    "plt.figure()\n",
    "plt.plot(epochs, loss1, 'g', label='Training loss')\n",
    "plt.plot(epochs, val_loss1, 'r', label='Validation loss')\n",
    "plt.title('Training and validation loss')\n",
    "plt.legend()\n",
    "plt.show();"
   ]
  },
  {
   "cell_type": "markdown",
   "metadata": {},
   "source": [
    "## Model 2: Pre-Trained Word Embeddings"
   ]
  },
  {
   "cell_type": "code",
   "execution_count": 187,
   "metadata": {},
   "outputs": [],
   "source": [
    "#Open Glove File\n",
    "embeddings_dictionary = dict()\n",
    "embedding_dim = 300\n",
    "vocab_length = len(word_index) + 1\n",
    "\n",
    "glove_file = open('Downloads/glove.twitter.27B.100d.txt', 'rb')\n",
    "for line in glove_file:\n",
    "    records = line.split()\n",
    "    word = records[0]\n",
    "    vector_dimensions = np.asarray(records[1:], dtype='float32')\n",
    "    embeddings_dictionary [word] = vector_dimensions\n",
    "glove_file.close()"
   ]
  },
  {
   "cell_type": "code",
   "execution_count": 188,
   "metadata": {},
   "outputs": [],
   "source": [
    "#Create embedding matrix\n",
    "embedding_matrix = np.zeros((vocab_length, embedding_dim))\n",
    "for word, index in tokenizer.word_index.items():\n",
    "    embedding_vector = embeddings_dictionary.get(word)\n",
    "    if embedding_vector is not None:\n",
    "        embedding_matrix[index] = embedding_vector"
   ]
  },
  {
   "cell_type": "code",
   "execution_count": 189,
   "metadata": {},
   "outputs": [
    {
     "name": "stdout",
     "output_type": "stream",
     "text": [
      "Shape of Embedding: (19461, 300)\n"
     ]
    }
   ],
   "source": [
    "#Check Shape\n",
    "print(f'Shape of Embedding: {embedding_matrix.shape}')"
   ]
  },
  {
   "cell_type": "code",
   "execution_count": 190,
   "metadata": {},
   "outputs": [
    {
     "name": "stdout",
     "output_type": "stream",
     "text": [
      "Model: \"sequential_24\"\n",
      "_________________________________________________________________\n",
      " Layer (type)                Output Shape              Param #   \n",
      "=================================================================\n",
      " embedding_24 (Embedding)    (None, 50, 300)           5838300   \n",
      "                                                                 \n",
      " lstm_22 (LSTM)              (None, 64)                93440     \n",
      "                                                                 \n",
      " dense_39 (Dense)            (None, 64)                4160      \n",
      "                                                                 \n",
      " dense_40 (Dense)            (None, 1)                 65        \n",
      "                                                                 \n",
      "=================================================================\n",
      "Total params: 5,935,965\n",
      "Trainable params: 97,665\n",
      "Non-trainable params: 5,838,300\n",
      "_________________________________________________________________\n"
     ]
    }
   ],
   "source": [
    "#Model using pre-trained Glove embeddings\n",
    "start2 = time.time()\n",
    "model2 = tf.keras.Sequential()\n",
    "model2.add(\n",
    "    tf.keras.layers.Embedding(\n",
    "        input_dim=embedding_matrix.shape[0],output_dim=embedding_matrix.shape[1], weights=[embedding_matrix],\n",
    "        input_length=max_length, trainable = False\n",
    "    )\n",
    ")\n",
    "model2.add(tf.keras.layers.LSTM(64))\n",
    "model2.add(tf.keras.layers.Dense(64, activation='relu'))\n",
    "model2.add(tf.keras.layers.Dense(1, activation='sigmoid'))\n",
    "model2.compile(loss='binary_crossentropy', optimizer='rmsprop',metrics=['accuracy'])\n",
    "    \n",
    "model2.summary()\n",
    "\n",
    "num_epochs = 10\n",
    "#history_glove = model2.fit(padded, y_train, epochs=30, validation_data=(testing_padded, y_test), verbose=0)\n",
    "end2 = time.time()\n",
    "time2 = end2-start2"
   ]
  },
  {
   "cell_type": "code",
   "execution_count": 191,
   "metadata": {},
   "outputs": [
    {
     "data": {
      "image/png": "[encoded data removed]",
      "text/plain": [
       "<Figure size 432x288 with 1 Axes>"
      ]
     },
     "metadata": {
      "needs_background": "light"
     },
     "output_type": "display_data"
    },
    {
     "data": {
      "image/png": "[encoded data removed]",
      "text/plain": [
       "<Figure size 432x288 with 1 Axes>"
      ]
     },
     "metadata": {
      "needs_background": "light"
     },
     "output_type": "display_data"
    }
   ],
   "source": [
    "acc2 = history_glove.history['accuracy']\n",
    "val_acc2 = history_glove.history['val_accuracy']\n",
    "loss2 = history_glove.history['loss']\n",
    "val_loss2 = history_glove.history['val_loss']\n",
    "epochs = range(1, len(acc2) + 1)\n",
    "plt.plot(epochs, acc2, 'g', label='Training acc')\n",
    "plt.plot(epochs, val_acc2, 'r', label='Validation acc')\n",
    "plt.title('Training and validation accuracy')\n",
    "plt.legend()\n",
    "plt.figure()\n",
    "plt.plot(epochs, loss2, 'g', label='Training loss')\n",
    "plt.plot(epochs, val_loss2, 'r', label='Validation loss')\n",
    "plt.title('Training and validation loss')\n",
    "plt.legend()\n",
    "plt.show();"
   ]
  },
  {
   "cell_type": "markdown",
   "metadata": {},
   "source": [
    "## Model Comparison"
   ]
  },
  {
   "cell_type": "code",
   "execution_count": 192,
   "metadata": {},
   "outputs": [
    {
     "data": {
      "text/html": [
       "<div>\n",
       "<style scoped>\n",
       "    .dataframe tbody tr th:only-of-type {\n",
       "        vertical-align: middle;\n",
       "    }\n",
       "\n",
       "    .dataframe tbody tr th {\n",
       "        vertical-align: top;\n",
       "    }\n",
       "\n",
       "    .dataframe thead th {\n",
       "        text-align: right;\n",
       "    }\n",
       "</style>\n",
       "<table border=\"1\" class=\"dataframe\">\n",
       "  <thead>\n",
       "    <tr style=\"text-align: right;\">\n",
       "      <th></th>\n",
       "      <th>Model Name</th>\n",
       "      <th>Training Time</th>\n",
       "      <th>Loss (Training)</th>\n",
       "      <th>Loss (Validation)</th>\n",
       "      <th>Accuracy (Training)</th>\n",
       "      <th>Accuracy (Validation)</th>\n",
       "    </tr>\n",
       "  </thead>\n",
       "  <tbody>\n",
       "    <tr>\n",
       "      <th>0</th>\n",
       "      <td>Model 1</td>\n",
       "      <td>214.574985</td>\n",
       "      <td>0.01791</td>\n",
       "      <td>1.963922</td>\n",
       "      <td>0.990476</td>\n",
       "      <td>0.738674</td>\n",
       "    </tr>\n",
       "    <tr>\n",
       "      <th>1</th>\n",
       "      <td>Model 2 (Glove)</td>\n",
       "      <td>428.725454</td>\n",
       "      <td>0.68351</td>\n",
       "      <td>0.682226</td>\n",
       "      <td>0.569458</td>\n",
       "      <td>0.573867</td>\n",
       "    </tr>\n",
       "  </tbody>\n",
       "</table>\n",
       "</div>"
      ],
      "text/plain": [
       "        Model Name  Training Time  Loss (Training)  Loss (Validation)  \\\n",
       "0          Model 1     214.574985          0.01791           1.963922   \n",
       "1  Model 2 (Glove)     428.725454          0.68351           0.682226   \n",
       "\n",
       "   Accuracy (Training)  Accuracy (Validation)  \n",
       "0             0.990476               0.738674  \n",
       "1             0.569458               0.573867  "
      ]
     },
     "metadata": {},
     "output_type": "display_data"
    }
   ],
   "source": [
    "df = {\"Model Name\": [\"Model 1\",\"Model 2 (Glove)\"],\n",
    "      \"Training Time\": [time1, time2],\n",
    "      \"Loss (Training)\": [loss1[-1],loss2[-1]],\n",
    "      \"Loss (Validation)\": [val_loss1[-1],val_loss2[-1]],\n",
    "      \"Accuracy (Training)\": [acc1[-1],acc2[-1]],\n",
    "      \"Accuracy (Validation)\": [val_acc1[-1],val_acc2[-1]]\n",
    "     }\n",
    "df = pd.DataFrame(df)\n",
    "display(df)"
   ]
  },
  {
   "cell_type": "markdown",
   "metadata": {},
   "source": [
    "In part 2 of this assignment, two RNN models were constructed to classify Tweets as relating to disasters or not. Model 1 is an RNN built using LSTM architecture. 10,000 words were chosen to be kept from the collection of tweets in the training set. Punctuation is removed using a Keras Tokenizer and padding is used to maintain a standardlength between sequences. In Model 2, pre-trained word embeddings are used to classify tweets, as opposed to Model 1 where the word embeddings took place during training. \n",
    "\n",
    "From the graph outputs of loss/accuracy we see some issues with both models. Model 1 appears to suffer from overfitting; validation accuracy starts are around 0.8 but drops to 0.75 while the training accuracy improved to 0.986. There seems to be something wrong with Model 2 because the output for training and test data is the exact same for accuracy and loss. The numbers for these metrics also indicate that Model 2 is not a good classifier of tweets. \n",
    "\n",
    "Model 1 has a high enough accuracy rate to be used for Kaggle predictions. Model 1 will be used for the submission.  "
   ]
  },
  {
   "cell_type": "code",
   "execution_count": 193,
   "metadata": {},
   "outputs": [],
   "source": [
    "sample_submission = pd.read_csv(\"Downloads/sample_submission.csv\")"
   ]
  },
  {
   "cell_type": "code",
   "execution_count": 203,
   "metadata": {},
   "outputs": [],
   "source": [
    "tokenizer.fit_on_texts(test['text'])\n",
    "sequences = tokenizer.texts_to_sequences(test['text'])\n",
    "testing_padded = pad_sequences(sequences, maxlen=max_length)"
   ]
  },
  {
   "cell_type": "code",
   "execution_count": 215,
   "metadata": {},
   "outputs": [
    {
     "name": "stdout",
     "output_type": "stream",
     "text": [
      "102/102 [==============================] - 1s 11ms/step\n"
     ]
    }
   ],
   "source": [
    "predict=model1.predict(testing_padded)\n",
    "predict=np.round(predict).astype(int).reshape(3263)\n",
    "submission = pd.DataFrame()\n",
    "submission['id'] = test['id']\n",
    "submission['target'] = predict\n",
    "submission.to_csv(\"Disaster Predictions.csv\", index=False)"
   ]
  }
 ],
 "metadata": {
  "kernelspec": {
   "display_name": "Python 3.8 (tensorflow)",
   "language": "python",
   "name": "tensorflow"
  },
  "language_info": {
   "codemirror_mode": {
    "name": "ipython",
    "version": 3
   },
   "file_extension": ".py",
   "mimetype": "text/x-python",
   "name": "python",
   "nbconvert_exporter": "python",
   "pygments_lexer": "ipython3",
   "version": "3.8.13"
  }
 },
 "nbformat": 4,
 "nbformat_minor": 5
}
