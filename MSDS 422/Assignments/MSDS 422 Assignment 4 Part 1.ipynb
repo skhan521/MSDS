{
 "cells": [
  {
   "cell_type": "markdown",
   "id": "e3f0f557",
   "metadata": {},
   "source": [
    "# MSDS 422 Assignment 4 Part 1"
   ]
  },
  {
   "cell_type": "code",
   "execution_count": 37,
   "id": "58a70143",
   "metadata": {},
   "outputs": [],
   "source": [
    "import os\n",
    "import time\n",
    "import numpy as np\n",
    "import pandas as pd\n",
    "import tensorflow as tf\n",
    "import tensorflow.keras as keras\n",
    "from tensorflow.keras.models import Sequential\n",
    "from tensorflow.keras import layers\n",
    "from tensorflow.keras import models\n",
    "from tensorflow.keras import optimizers\n",
    "from keras.models import load_model, save_model\n",
    "from sklearn.model_selection import train_test_split\n",
    "import matplotlib.pyplot as plt\n",
    "%matplotlib inline"
   ]
  },
  {
   "cell_type": "code",
   "execution_count": 38,
   "id": "edffcfd9",
   "metadata": {},
   "outputs": [
    {
     "data": {
      "text/html": [
       "<div>\n",
       "<style scoped>\n",
       "    .dataframe tbody tr th:only-of-type {\n",
       "        vertical-align: middle;\n",
       "    }\n",
       "\n",
       "    .dataframe tbody tr th {\n",
       "        vertical-align: top;\n",
       "    }\n",
       "\n",
       "    .dataframe thead th {\n",
       "        text-align: right;\n",
       "    }\n",
       "</style>\n",
       "<table border=\"1\" class=\"dataframe\">\n",
       "  <thead>\n",
       "    <tr style=\"text-align: right;\">\n",
       "      <th></th>\n",
       "      <th>label</th>\n",
       "      <th>pixel0</th>\n",
       "      <th>pixel1</th>\n",
       "      <th>pixel2</th>\n",
       "      <th>pixel3</th>\n",
       "      <th>pixel4</th>\n",
       "      <th>pixel5</th>\n",
       "      <th>pixel6</th>\n",
       "      <th>pixel7</th>\n",
       "      <th>pixel8</th>\n",
       "      <th>...</th>\n",
       "      <th>pixel774</th>\n",
       "      <th>pixel775</th>\n",
       "      <th>pixel776</th>\n",
       "      <th>pixel777</th>\n",
       "      <th>pixel778</th>\n",
       "      <th>pixel779</th>\n",
       "      <th>pixel780</th>\n",
       "      <th>pixel781</th>\n",
       "      <th>pixel782</th>\n",
       "      <th>pixel783</th>\n",
       "    </tr>\n",
       "  </thead>\n",
       "  <tbody>\n",
       "    <tr>\n",
       "      <th>0</th>\n",
       "      <td>1</td>\n",
       "      <td>0</td>\n",
       "      <td>0</td>\n",
       "      <td>0</td>\n",
       "      <td>0</td>\n",
       "      <td>0</td>\n",
       "      <td>0</td>\n",
       "      <td>0</td>\n",
       "      <td>0</td>\n",
       "      <td>0</td>\n",
       "      <td>...</td>\n",
       "      <td>0</td>\n",
       "      <td>0</td>\n",
       "      <td>0</td>\n",
       "      <td>0</td>\n",
       "      <td>0</td>\n",
       "      <td>0</td>\n",
       "      <td>0</td>\n",
       "      <td>0</td>\n",
       "      <td>0</td>\n",
       "      <td>0</td>\n",
       "    </tr>\n",
       "    <tr>\n",
       "      <th>1</th>\n",
       "      <td>0</td>\n",
       "      <td>0</td>\n",
       "      <td>0</td>\n",
       "      <td>0</td>\n",
       "      <td>0</td>\n",
       "      <td>0</td>\n",
       "      <td>0</td>\n",
       "      <td>0</td>\n",
       "      <td>0</td>\n",
       "      <td>0</td>\n",
       "      <td>...</td>\n",
       "      <td>0</td>\n",
       "      <td>0</td>\n",
       "      <td>0</td>\n",
       "      <td>0</td>\n",
       "      <td>0</td>\n",
       "      <td>0</td>\n",
       "      <td>0</td>\n",
       "      <td>0</td>\n",
       "      <td>0</td>\n",
       "      <td>0</td>\n",
       "    </tr>\n",
       "    <tr>\n",
       "      <th>2</th>\n",
       "      <td>1</td>\n",
       "      <td>0</td>\n",
       "      <td>0</td>\n",
       "      <td>0</td>\n",
       "      <td>0</td>\n",
       "      <td>0</td>\n",
       "      <td>0</td>\n",
       "      <td>0</td>\n",
       "      <td>0</td>\n",
       "      <td>0</td>\n",
       "      <td>...</td>\n",
       "      <td>0</td>\n",
       "      <td>0</td>\n",
       "      <td>0</td>\n",
       "      <td>0</td>\n",
       "      <td>0</td>\n",
       "      <td>0</td>\n",
       "      <td>0</td>\n",
       "      <td>0</td>\n",
       "      <td>0</td>\n",
       "      <td>0</td>\n",
       "    </tr>\n",
       "    <tr>\n",
       "      <th>3</th>\n",
       "      <td>4</td>\n",
       "      <td>0</td>\n",
       "      <td>0</td>\n",
       "      <td>0</td>\n",
       "      <td>0</td>\n",
       "      <td>0</td>\n",
       "      <td>0</td>\n",
       "      <td>0</td>\n",
       "      <td>0</td>\n",
       "      <td>0</td>\n",
       "      <td>...</td>\n",
       "      <td>0</td>\n",
       "      <td>0</td>\n",
       "      <td>0</td>\n",
       "      <td>0</td>\n",
       "      <td>0</td>\n",
       "      <td>0</td>\n",
       "      <td>0</td>\n",
       "      <td>0</td>\n",
       "      <td>0</td>\n",
       "      <td>0</td>\n",
       "    </tr>\n",
       "    <tr>\n",
       "      <th>4</th>\n",
       "      <td>0</td>\n",
       "      <td>0</td>\n",
       "      <td>0</td>\n",
       "      <td>0</td>\n",
       "      <td>0</td>\n",
       "      <td>0</td>\n",
       "      <td>0</td>\n",
       "      <td>0</td>\n",
       "      <td>0</td>\n",
       "      <td>0</td>\n",
       "      <td>...</td>\n",
       "      <td>0</td>\n",
       "      <td>0</td>\n",
       "      <td>0</td>\n",
       "      <td>0</td>\n",
       "      <td>0</td>\n",
       "      <td>0</td>\n",
       "      <td>0</td>\n",
       "      <td>0</td>\n",
       "      <td>0</td>\n",
       "      <td>0</td>\n",
       "    </tr>\n",
       "  </tbody>\n",
       "</table>\n",
       "<p>5 rows × 785 columns</p>\n",
       "</div>"
      ],
      "text/plain": [
       "   label  pixel0  pixel1  pixel2  pixel3  pixel4  pixel5  pixel6  pixel7  \\\n",
       "0      1       0       0       0       0       0       0       0       0   \n",
       "1      0       0       0       0       0       0       0       0       0   \n",
       "2      1       0       0       0       0       0       0       0       0   \n",
       "3      4       0       0       0       0       0       0       0       0   \n",
       "4      0       0       0       0       0       0       0       0       0   \n",
       "\n",
       "   pixel8  ...  pixel774  pixel775  pixel776  pixel777  pixel778  pixel779  \\\n",
       "0       0  ...         0         0         0         0         0         0   \n",
       "1       0  ...         0         0         0         0         0         0   \n",
       "2       0  ...         0         0         0         0         0         0   \n",
       "3       0  ...         0         0         0         0         0         0   \n",
       "4       0  ...         0         0         0         0         0         0   \n",
       "\n",
       "   pixel780  pixel781  pixel782  pixel783  \n",
       "0         0         0         0         0  \n",
       "1         0         0         0         0  \n",
       "2         0         0         0         0  \n",
       "3         0         0         0         0  \n",
       "4         0         0         0         0  \n",
       "\n",
       "[5 rows x 785 columns]"
      ]
     },
     "execution_count": 38,
     "metadata": {},
     "output_type": "execute_result"
    }
   ],
   "source": [
    "train = pd.read_csv(\"Downloads\\digit_train.csv\")\n",
    "test = pd.read_csv(\"Downloads\\digit_test.csv\")\n",
    "train.head()"
   ]
  },
  {
   "cell_type": "code",
   "execution_count": 39,
   "id": "4c5dc61a",
   "metadata": {},
   "outputs": [],
   "source": [
    "# Set random seed and subset training data into pixels and labels\n",
    "np.random.seed(42)\n",
    "\n",
    "X = train.iloc[:,1:785]\n",
    "Y = train.iloc[:,0]"
   ]
  },
  {
   "cell_type": "code",
   "execution_count": 40,
   "id": "77ca8536",
   "metadata": {},
   "outputs": [
    {
     "data": {
      "text/plain": [
       "((29400, 784), (12600, 784), (29400,), (12600,))"
      ]
     },
     "execution_count": 40,
     "metadata": {},
     "output_type": "execute_result"
    }
   ],
   "source": [
    "#Train/test split\n",
    "xtrain, xval, ytrain, yval = train_test_split(X, Y, test_size=0.3,random_state=42)\n",
    "\n",
    "#Check Shape\n",
    "xtrain.shape, xval.shape, ytrain.shape, yval.shape"
   ]
  },
  {
   "cell_type": "code",
   "execution_count": 41,
   "id": "fd7f50e2",
   "metadata": {},
   "outputs": [],
   "source": [
    "#Convert dataframe into numpy array\n",
    "xtrain = xtrain.to_numpy()\n",
    "ytrain = ytrain.to_numpy()\n",
    "\n",
    "#Same for validation set\n",
    "xval = xval.to_numpy()\n",
    "yval = yval.to_numpy()"
   ]
  },
  {
   "cell_type": "code",
   "execution_count": 42,
   "id": "537c8ca9",
   "metadata": {},
   "outputs": [],
   "source": [
    "#Scale Pixel Values\n",
    "xtrain = xtrain/255\n",
    "xval = xval/255"
   ]
  },
  {
   "cell_type": "code",
   "execution_count": 43,
   "id": "5a89db72",
   "metadata": {},
   "outputs": [
    {
     "data": {
      "text/plain": [
       "(29400, 784)"
      ]
     },
     "execution_count": 43,
     "metadata": {},
     "output_type": "execute_result"
    }
   ],
   "source": [
    "xtrain.shape"
   ]
  },
  {
   "cell_type": "code",
   "execution_count": 44,
   "id": "e6e140e8",
   "metadata": {},
   "outputs": [],
   "source": [
    "#Encode Target Variable\n",
    "ytrain = keras.utils.to_categorical(ytrain, num_classes=10)\n",
    "yval = keras.utils.to_categorical(yval, num_classes=10)"
   ]
  },
  {
   "cell_type": "markdown",
   "id": "a565e5f7",
   "metadata": {},
   "source": [
    "## Part 1A: MLPs"
   ]
  },
  {
   "cell_type": "markdown",
   "id": "8c535b7c",
   "metadata": {},
   "source": [
    "### Model 1: Two layer MLP with Relu Activation Function"
   ]
  },
  {
   "cell_type": "code",
   "execution_count": 45,
   "id": "02c8e7dc",
   "metadata": {},
   "outputs": [],
   "source": [
    "#Create Model\n",
    "model1 = keras.Sequential([\n",
    "    keras.layers.Dense(500, activation=\"relu\"),\n",
    "    keras.layers.Dense(200, activation=\"relu\"),\n",
    "    keras.layers.Dense(10, activation=\"softmax\")\n",
    "])"
   ]
  },
  {
   "cell_type": "code",
   "execution_count": 46,
   "id": "9a519685",
   "metadata": {},
   "outputs": [],
   "source": [
    "#Compile Model\n",
    "model1.compile(optimizer='sgd',\n",
    "               loss='categorical_crossentropy',\n",
    "               metrics=[\"categorical_accuracy\"])"
   ]
  },
  {
   "cell_type": "code",
   "execution_count": 47,
   "id": "d158292c",
   "metadata": {},
   "outputs": [],
   "source": [
    "#Early Stopping to mitigate overfitting\n",
    "early_stopping = keras.callbacks.EarlyStopping(\n",
    "    patience=4,\n",
    "    min_delta=0.001,\n",
    "    restore_best_weights=True,\n",
    ")"
   ]
  },
  {
   "cell_type": "code",
   "execution_count": 48,
   "id": "a0f97231",
   "metadata": {},
   "outputs": [],
   "source": [
    "#Train Model\n",
    "start = time.time()\n",
    "training1 = model1.fit(xtrain, ytrain,\n",
    "                       validation_data=(xval,yval),\n",
    "                       batch_size=100,\n",
    "                       epochs=30,\n",
    "                       callbacks=[early_stopping],\n",
    "                       verbose=0)\n",
    "stop = time.time()\n",
    "model1_time = stop-start"
   ]
  },
  {
   "cell_type": "code",
   "execution_count": 49,
   "id": "e9257be0",
   "metadata": {},
   "outputs": [
    {
     "name": "stdout",
     "output_type": "stream",
     "text": [
      "Model: \"sequential_5\"\n",
      "_________________________________________________________________\n",
      " Layer (type)                Output Shape              Param #   \n",
      "=================================================================\n",
      " dense_18 (Dense)            (100, 500)                392500    \n",
      "                                                                 \n",
      " dense_19 (Dense)            (100, 200)                100200    \n",
      "                                                                 \n",
      " dense_20 (Dense)            (100, 10)                 2010      \n",
      "                                                                 \n",
      "=================================================================\n",
      "Total params: 494,710\n",
      "Trainable params: 494,710\n",
      "Non-trainable params: 0\n",
      "_________________________________________________________________\n"
     ]
    }
   ],
   "source": [
    "model1.summary()"
   ]
  },
  {
   "cell_type": "code",
   "execution_count": 50,
   "id": "7e84ab7d",
   "metadata": {},
   "outputs": [
    {
     "name": "stdout",
     "output_type": "stream",
     "text": [
      "394/394 - 1s - loss: 0.1677 - categorical_accuracy: 0.9522 - 699ms/epoch - 2ms/step\n"
     ]
    }
   ],
   "source": [
    "#Evaluate the model\n",
    "metrics1 = model1.evaluate(xval, yval, verbose=2)"
   ]
  },
  {
   "cell_type": "code",
   "execution_count": 51,
   "id": "a731a4c5",
   "metadata": {},
   "outputs": [
    {
     "data": {
      "image/png": "[encoded data removed]",
      "text/plain": [
       "<Figure size 576x360 with 1 Axes>"
      ]
     },
     "metadata": {
      "needs_background": "light"
     },
     "output_type": "display_data"
    }
   ],
   "source": [
    "pd.DataFrame(training1.history).plot(figsize=(8,5))\n",
    "plt.gca().set_ylim(0,1)\n",
    "plt.show()"
   ]
  },
  {
   "cell_type": "markdown",
   "id": "b31dc3dc",
   "metadata": {},
   "source": [
    "### Model 2: Two Layer MLP with Sigmoid Activation Function"
   ]
  },
  {
   "cell_type": "code",
   "execution_count": 52,
   "id": "cbcce418",
   "metadata": {},
   "outputs": [],
   "source": [
    "#Create Model\n",
    "model2 = keras.Sequential([\n",
    "    keras.layers.Dense(500, activation=\"sigmoid\"),\n",
    "    keras.layers.Dense(200, activation=\"sigmoid\"),\n",
    "    keras.layers.Dense(10, activation=\"softmax\")\n",
    "])"
   ]
  },
  {
   "cell_type": "code",
   "execution_count": 53,
   "id": "b0789ced",
   "metadata": {},
   "outputs": [],
   "source": [
    "model2.compile(optimizer='sgd',\n",
    "               loss='categorical_crossentropy',\n",
    "               metrics=[\"categorical_accuracy\"])"
   ]
  },
  {
   "cell_type": "code",
   "execution_count": 54,
   "id": "db36d797",
   "metadata": {},
   "outputs": [],
   "source": [
    "#Train Model\n",
    "start = time.time()\n",
    "training2 = model2.fit(xtrain, ytrain,\n",
    "                       validation_data=(xval,yval),\n",
    "                       batch_size=100,\n",
    "                       epochs=30,\n",
    "                       callbacks=[early_stopping],\n",
    "                       verbose=0)\n",
    "stop = time.time()\n",
    "model2_time = stop-start"
   ]
  },
  {
   "cell_type": "code",
   "execution_count": 55,
   "id": "2545db88",
   "metadata": {},
   "outputs": [
    {
     "name": "stdout",
     "output_type": "stream",
     "text": [
      "394/394 - 1s - loss: 0.4817 - categorical_accuracy: 0.8722 - 738ms/epoch - 2ms/step\n"
     ]
    }
   ],
   "source": [
    "#Evaluate the model\n",
    "metrics2 = model2.evaluate(xval, yval, verbose=2)"
   ]
  },
  {
   "cell_type": "code",
   "execution_count": 56,
   "id": "f4234245",
   "metadata": {},
   "outputs": [
    {
     "data": {
      "image/png": "[encoded data removed]",
      "text/plain": [
       "<Figure size 576x360 with 1 Axes>"
      ]
     },
     "metadata": {
      "needs_background": "light"
     },
     "output_type": "display_data"
    }
   ],
   "source": [
    "pd.DataFrame(training2.history).plot(figsize=(8,5))\n",
    "plt.gca().set_ylim(0,1)\n",
    "plt.show()"
   ]
  },
  {
   "cell_type": "markdown",
   "id": "14436beb",
   "metadata": {},
   "source": [
    "### Model 3: Three Layer MLP with Relu Activation Function"
   ]
  },
  {
   "cell_type": "code",
   "execution_count": 57,
   "id": "8a6ad2d8",
   "metadata": {},
   "outputs": [],
   "source": [
    "#Create Model\n",
    "model3 = keras.Sequential([\n",
    "    keras.layers.Dense(1000, activation=\"relu\"),\n",
    "    keras.layers.Dense(500, activation=\"relu\"),\n",
    "    keras.layers.Dense(200, activation=\"relu\"),\n",
    "    keras.layers.Dense(10, activation=\"softmax\")\n",
    "])"
   ]
  },
  {
   "cell_type": "code",
   "execution_count": 58,
   "id": "b254176a",
   "metadata": {},
   "outputs": [],
   "source": [
    "model3.compile(optimizer='sgd',\n",
    "               loss='categorical_crossentropy',\n",
    "               metrics=[\"categorical_accuracy\"])"
   ]
  },
  {
   "cell_type": "code",
   "execution_count": 59,
   "id": "f03fb123",
   "metadata": {},
   "outputs": [],
   "source": [
    "#Train Model\n",
    "start = time.time()\n",
    "training3 = model3.fit(xtrain, ytrain,\n",
    "                       validation_data=(xval,yval),\n",
    "                       batch_size=100,\n",
    "                       epochs=30,\n",
    "                       callbacks=[early_stopping],\n",
    "                       verbose=0)\n",
    "stop = time.time()\n",
    "model3_time = stop-start"
   ]
  },
  {
   "cell_type": "code",
   "execution_count": 60,
   "id": "6d74a941",
   "metadata": {},
   "outputs": [
    {
     "name": "stdout",
     "output_type": "stream",
     "text": [
      "394/394 - 1s - loss: 0.1303 - categorical_accuracy: 0.9625 - 1s/epoch - 3ms/step\n"
     ]
    }
   ],
   "source": [
    "#Evaluate the model\n",
    "metrics3 = model3.evaluate(xval, yval, verbose=2)"
   ]
  },
  {
   "cell_type": "code",
   "execution_count": 61,
   "id": "7bffea0d",
   "metadata": {},
   "outputs": [
    {
     "data": {
      "image/png": "[encoded data removed]",
      "text/plain": [
       "<Figure size 576x360 with 1 Axes>"
      ]
     },
     "metadata": {
      "needs_background": "light"
     },
     "output_type": "display_data"
    }
   ],
   "source": [
    "pd.DataFrame(training3.history).plot(figsize=(8,5))\n",
    "plt.gca().set_ylim(0,1)\n",
    "plt.show()"
   ]
  },
  {
   "cell_type": "markdown",
   "id": "c1ff2ef7",
   "metadata": {},
   "source": [
    "### Model 4: Three Layer MLP with Sigmoid Activation Function"
   ]
  },
  {
   "cell_type": "code",
   "execution_count": 62,
   "id": "4cc30432",
   "metadata": {},
   "outputs": [],
   "source": [
    "#Create Model\n",
    "model4 = keras.Sequential([\n",
    "    keras.layers.Dense(1000, activation=\"sigmoid\"),\n",
    "    keras.layers.Dense(500, activation=\"sigmoid\"),\n",
    "    keras.layers.Dense(200, activation=\"sigmoid\"),\n",
    "    keras.layers.Dense(10, activation=\"softmax\")\n",
    "])"
   ]
  },
  {
   "cell_type": "code",
   "execution_count": 63,
   "id": "5b00a44c",
   "metadata": {},
   "outputs": [],
   "source": [
    "model4.compile(optimizer='sgd',\n",
    "               loss='categorical_crossentropy',\n",
    "               metrics=[\"categorical_accuracy\"])"
   ]
  },
  {
   "cell_type": "code",
   "execution_count": 64,
   "id": "074cc2de",
   "metadata": {},
   "outputs": [],
   "source": [
    "#Train Model\n",
    "start = time.time()\n",
    "training4 = model4.fit(xtrain, ytrain,\n",
    "                       validation_data=(xval,yval),\n",
    "                       batch_size=100,\n",
    "                       epochs=30,\n",
    "                       callbacks=[early_stopping],\n",
    "                       verbose=0)\n",
    "stop = time.time()\n",
    "model4_time = stop-start"
   ]
  },
  {
   "cell_type": "code",
   "execution_count": 65,
   "id": "a95e7b7a",
   "metadata": {},
   "outputs": [
    {
     "name": "stdout",
     "output_type": "stream",
     "text": [
      "394/394 - 1s - loss: 0.9494 - categorical_accuracy: 0.7319 - 1s/epoch - 3ms/step\n"
     ]
    }
   ],
   "source": [
    "#Evaluate the model\n",
    "metrics4 = model4.evaluate(xval, yval, verbose=2)"
   ]
  },
  {
   "cell_type": "code",
   "execution_count": 66,
   "id": "f8bbbf46",
   "metadata": {},
   "outputs": [
    {
     "data": {
      "image/png": "[encoded data removed]",
      "text/plain": [
       "<Figure size 576x360 with 1 Axes>"
      ]
     },
     "metadata": {
      "needs_background": "light"
     },
     "output_type": "display_data"
    }
   ],
   "source": [
    "pd.DataFrame(training4.history).plot(figsize=(8,5))\n",
    "plt.gca().set_ylim(0,1)\n",
    "plt.show()"
   ]
  },
  {
   "cell_type": "markdown",
   "id": "a0785fc9",
   "metadata": {},
   "source": [
    "### Model Comparison"
   ]
  },
  {
   "cell_type": "code",
   "execution_count": 142,
   "id": "adee9131",
   "metadata": {},
   "outputs": [
    {
     "data": {
      "text/html": [
       "<div>\n",
       "<style scoped>\n",
       "    .dataframe tbody tr th:only-of-type {\n",
       "        vertical-align: middle;\n",
       "    }\n",
       "\n",
       "    .dataframe tbody tr th {\n",
       "        vertical-align: top;\n",
       "    }\n",
       "\n",
       "    .dataframe thead th {\n",
       "        text-align: right;\n",
       "    }\n",
       "</style>\n",
       "<table border=\"1\" class=\"dataframe\">\n",
       "  <thead>\n",
       "    <tr style=\"text-align: right;\">\n",
       "      <th></th>\n",
       "      <th>Model Number</th>\n",
       "      <th>Hidden Layers</th>\n",
       "      <th>Activation Function</th>\n",
       "      <th>Training Time</th>\n",
       "      <th>Validation Accuracy</th>\n",
       "    </tr>\n",
       "  </thead>\n",
       "  <tbody>\n",
       "    <tr>\n",
       "      <th>0</th>\n",
       "      <td>1</td>\n",
       "      <td>2</td>\n",
       "      <td>Relu</td>\n",
       "      <td>35.110563</td>\n",
       "      <td>0.952222</td>\n",
       "    </tr>\n",
       "    <tr>\n",
       "      <th>1</th>\n",
       "      <td>2</td>\n",
       "      <td>2</td>\n",
       "      <td>Sigmoid</td>\n",
       "      <td>35.081399</td>\n",
       "      <td>0.872222</td>\n",
       "    </tr>\n",
       "    <tr>\n",
       "      <th>2</th>\n",
       "      <td>3</td>\n",
       "      <td>3</td>\n",
       "      <td>Relu</td>\n",
       "      <td>80.570604</td>\n",
       "      <td>0.962460</td>\n",
       "    </tr>\n",
       "    <tr>\n",
       "      <th>3</th>\n",
       "      <td>4</td>\n",
       "      <td>3</td>\n",
       "      <td>Sigmoid</td>\n",
       "      <td>84.195890</td>\n",
       "      <td>0.731905</td>\n",
       "    </tr>\n",
       "  </tbody>\n",
       "</table>\n",
       "</div>"
      ],
      "text/plain": [
       "  Model Number Hidden Layers Activation Function  Training Time  \\\n",
       "0            1             2                Relu      35.110563   \n",
       "1            2             2             Sigmoid      35.081399   \n",
       "2            3             3                Relu      80.570604   \n",
       "3            4             3             Sigmoid      84.195890   \n",
       "\n",
       "   Validation Accuracy  \n",
       "0             0.952222  \n",
       "1             0.872222  \n",
       "2             0.962460  \n",
       "3             0.731905  "
      ]
     },
     "metadata": {},
     "output_type": "display_data"
    }
   ],
   "source": [
    "df = {\"Model Number\": [\"1\",\"2\",\"3\",\"4\"],\n",
    "      \"Hidden Layers\": [\"2\",\"2\",\"3\",\"3\"],\n",
    "      \"Activation Function\": [\"Relu\",\"Sigmoid\",\"Relu\",\"Sigmoid\"],\n",
    "      \"Training Time\": [model1_time, model2_time,model3_time,model4_time],\n",
    "      \"Validation Accuracy\": [metrics1[1],metrics2[1],metrics3[1],metrics4[1]]\n",
    "     }\n",
    "df = pd.DataFrame(df)\n",
    "display(df)"
   ]
  },
  {
   "cell_type": "markdown",
   "id": "0f431f23",
   "metadata": {},
   "source": [
    "For Part 1A of this assignment, 4 MLP models were created for comparison purposes along two factors: the number of hidden layers and activation function used. For the models with two hidden layers, 500 and 200 neurons were used for each layer respectively. For the models with three hidden layers, the additional layer contains 1000 neurons. This will essentially test the hypothesis that adding more layers/more neurons will yield better results. \n",
    "\n",
    "We can see from the comparison table above that this is generally not the case. It is apparent that the Relu activation function provides much better results for both the two and three layered models over their sigmoid counterparts; we see accuracy scores over 0.95 for both Relu models, while neither sigmoid model achieved accuracy over 0.90. It is also important to note model training times. Adding just one more hidden layer to a model regardless of activation function more than doubled training time due to the added number of trainable parameters. We could also be seeing these results because of a vanishing gradient issue for the sigmoid function in lower hidden layers. This most likely explains why the  two layer sigmoid model had better accuracy than the three layer sigmoid model.\n",
    "\n",
    "The accuracy scores for the Relu models were very close with each model having a slight benefit over the other: the two layer model is much faster/uses less computational resources while the three layer model achieves better performance in terms of accuracy and loss metrics by the end of 30 epochs. \n",
    "\n",
    "The 3 layer Relu model will be used to generate Kaggle predictions. \n"
   ]
  },
  {
   "cell_type": "markdown",
   "id": "55c44a39",
   "metadata": {},
   "source": [
    "### Kaggle Predictions"
   ]
  },
  {
   "cell_type": "code",
   "execution_count": 80,
   "id": "dd2f1350",
   "metadata": {},
   "outputs": [
    {
     "name": "stdout",
     "output_type": "stream",
     "text": [
      "875/875 [==============================] - 3s 3ms/step\n"
     ]
    }
   ],
   "source": [
    "xfinal = test.to_numpy()\n",
    "xfinal = xfinal/255\n",
    "predictions = np.argmax(model3.predict(xfinal),axis=-1)"
   ]
  },
  {
   "cell_type": "code",
   "execution_count": 89,
   "id": "f7e93c97",
   "metadata": {},
   "outputs": [
    {
     "data": {
      "image/png": "[encoded data removed]",
      "text/plain": [
       "<Figure size 1080x432 with 20 Axes>"
      ]
     },
     "metadata": {
      "needs_background": "light"
     },
     "output_type": "display_data"
    }
   ],
   "source": [
    "#Check Predictions\n",
    "plt.figure(figsize=(15,6))\n",
    "for i in range(20):  \n",
    "    plt.subplot(4, 5, i+1)\n",
    "    plt.imshow(xfinal[i].reshape((28,28)))\n",
    "    plt.title(f\"Digit: {predictions[i]}\")\n",
    "plt.subplots_adjust(wspace=0.3, hspace=1)\n",
    "plt.show()"
   ]
  },
  {
   "cell_type": "code",
   "execution_count": 90,
   "id": "72eec21a",
   "metadata": {},
   "outputs": [],
   "source": [
    "sample = pd.read_csv(\"Downloads\\sample_submission.csv\")\n",
    "submission = pd.DataFrame()\n",
    "submission['ImageId'] = sample['ImageId']\n",
    "submission['label'] = predictions\n",
    "submission.to_csv(\"Digit Predictions.csv\", index=False)"
   ]
  },
  {
   "cell_type": "markdown",
   "id": "809b7840",
   "metadata": {},
   "source": [
    "## Part 1B: CNNs"
   ]
  },
  {
   "cell_type": "code",
   "execution_count": 113,
   "id": "06de248b",
   "metadata": {},
   "outputs": [],
   "source": [
    "from keras.layers import Conv2D, MaxPooling2D \n",
    "from keras.layers import Dense, Dropout, Flatten "
   ]
  },
  {
   "cell_type": "code",
   "execution_count": 114,
   "id": "b6fda4d0",
   "metadata": {},
   "outputs": [],
   "source": [
    "#Train/test split\n",
    "xtrain, xval, ytrain, yval = train_test_split(X, Y, test_size=0.3,random_state=42)\n",
    "\n",
    "#Scale Pixel Values\n",
    "xtrain = xtrain/255\n",
    "xval = xval/255\n",
    "\n",
    "#Reshape\n",
    "xtrain = xtrain.values.reshape(-1,28,28,1)\n",
    "xval = xval.values.reshape(-1,28,28,1)\n",
    "\n",
    "#Encode Target Variable\n",
    "ytrain = keras.utils.to_categorical(ytrain, num_classes=10)\n",
    "yval = keras.utils.to_categorical(yval, num_classes=10)"
   ]
  },
  {
   "cell_type": "markdown",
   "id": "87b7f32c",
   "metadata": {},
   "source": [
    "## Model 1: 4 layer CNN with Relu Activation"
   ]
  },
  {
   "cell_type": "code",
   "execution_count": 123,
   "id": "2f3c3d3e",
   "metadata": {},
   "outputs": [],
   "source": [
    "#Create Model\n",
    "model = Sequential()\n",
    "\n",
    "model.add(Conv2D(filters = 32, kernel_size = (5,5),padding = 'Same', \n",
    "                 activation ='relu', input_shape = (28,28,1)))\n",
    "model.add(Conv2D(filters = 32, kernel_size = (5,5),padding = 'Same', \n",
    "                 activation ='relu'))\n",
    "model.add(MaxPooling2D(pool_size=(2,2)))\n",
    "model.add(Dropout(0.25))\n",
    "\n",
    "\n",
    "model.add(Conv2D(filters = 64, kernel_size = (3,3),padding = 'Same', \n",
    "                 activation ='relu'))\n",
    "model.add(Conv2D(filters = 64, kernel_size = (3,3),padding = 'Same', \n",
    "                 activation ='relu'))\n",
    "model.add(MaxPooling2D(pool_size=(2,2), strides=(2,2)))\n",
    "model.add(Dropout(0.25))\n",
    "\n",
    "\n",
    "model.add(Flatten())\n",
    "model.add(Dense(256, activation = \"relu\"))\n",
    "model.add(Dropout(0.5))\n",
    "model.add(Dense(10, activation = \"softmax\"))\n",
    "\n",
    "#Compile Model\n",
    "model.compile(loss=\"categorical_crossentropy\", optimizer=\"adam\", metrics=[\"categorical_accuracy\"])"
   ]
  },
  {
   "cell_type": "code",
   "execution_count": 145,
   "id": "9462a76a",
   "metadata": {},
   "outputs": [],
   "source": [
    "#Fit the model and record training time\n",
    "#start = time.time()\n",
    "#training = model.fit(xtrain, ytrain, validation_data=(xval, yval), batch_size=100, epochs=20,  verbose=0)\n",
    "#end = time.time()\n",
    "#cnn1_time = end-start"
   ]
  },
  {
   "cell_type": "code",
   "execution_count": 127,
   "id": "067f1e95",
   "metadata": {},
   "outputs": [
    {
     "name": "stdout",
     "output_type": "stream",
     "text": [
      "394/394 - 6s - loss: 0.0323 - categorical_accuracy: 0.9913 - 6s/epoch - 14ms/step\n"
     ]
    }
   ],
   "source": [
    "#Evaluate the model\n",
    "metrics_cnn = model.evaluate(xval, yval, verbose=2)"
   ]
  },
  {
   "cell_type": "code",
   "execution_count": 129,
   "id": "324eee67",
   "metadata": {},
   "outputs": [
    {
     "data": {
      "image/png": "[encoded data removed]",
      "text/plain": [
       "<Figure size 576x360 with 1 Axes>"
      ]
     },
     "metadata": {
      "needs_background": "light"
     },
     "output_type": "display_data"
    }
   ],
   "source": [
    "pd.DataFrame(training.history).plot(figsize=(8,5))\n",
    "plt.gca().set_ylim(0,1)\n",
    "plt.show()"
   ]
  },
  {
   "cell_type": "markdown",
   "id": "af29819b",
   "metadata": {},
   "source": [
    "## Model 2: 4 layer CNN with Sigmoid Activation"
   ]
  },
  {
   "cell_type": "code",
   "execution_count": 134,
   "id": "e557bc36",
   "metadata": {},
   "outputs": [],
   "source": [
    "#Create Model\n",
    "model_2 = Sequential()\n",
    "\n",
    "model_2.add(Conv2D(filters = 32, kernel_size = (5,5),padding = 'Same', \n",
    "                 activation ='sigmoid', input_shape = (28,28,1)))\n",
    "model_2.add(Conv2D(filters = 32, kernel_size = (5,5),padding = 'Same', \n",
    "                 activation ='sigmoid'))\n",
    "model_2.add(MaxPooling2D(pool_size=(2,2)))\n",
    "model_2.add(Dropout(0.25))\n",
    "\n",
    "\n",
    "model_2.add(Conv2D(filters = 64, kernel_size = (3,3),padding = 'Same', \n",
    "                 activation ='sigmoid'))\n",
    "model_2.add(Conv2D(filters = 64, kernel_size = (3,3),padding = 'Same', \n",
    "                 activation ='sigmoid'))\n",
    "model_2.add(MaxPooling2D(pool_size=(2,2), strides=(2,2)))\n",
    "model_2.add(Dropout(0.25))\n",
    "\n",
    "\n",
    "model_2.add(Flatten())\n",
    "model_2.add(Dense(256, activation = \"sigmoid\"))\n",
    "model_2.add(Dropout(0.5))\n",
    "model_2.add(Dense(10, activation = \"softmax\"))\n",
    "\n",
    "#Compile Model\n",
    "model_2.compile(loss=\"categorical_crossentropy\", optimizer=\"adam\", metrics=[\"categorical_accuracy\"])"
   ]
  },
  {
   "cell_type": "code",
   "execution_count": 135,
   "id": "bf832705",
   "metadata": {},
   "outputs": [],
   "source": [
    "#Fit the model and record training time\n",
    "#start = time.time()\n",
    "#training2 = model_2.fit(xtrain, ytrain, validation_data=(xval, yval), batch_size=100, epochs=20,  verbose=0)\n",
    "#end = time.time()"
   ]
  },
  {
   "cell_type": "code",
   "execution_count": 139,
   "id": "d4222869",
   "metadata": {},
   "outputs": [],
   "source": [
    "#cnn2_time = end-start"
   ]
  },
  {
   "cell_type": "code",
   "execution_count": 136,
   "id": "a865c52a",
   "metadata": {},
   "outputs": [
    {
     "name": "stdout",
     "output_type": "stream",
     "text": [
      "394/394 - 10s - loss: 0.0449 - categorical_accuracy: 0.9854 - 10s/epoch - 24ms/step\n"
     ]
    }
   ],
   "source": [
    "#Evaluate the model\n",
    "metrics2_cnn = model_2.evaluate(xval, yval, verbose=2)"
   ]
  },
  {
   "cell_type": "code",
   "execution_count": 137,
   "id": "3777e853",
   "metadata": {},
   "outputs": [
    {
     "data": {
      "image/png": "[encoded data removed]",
      "text/plain": [
       "<Figure size 576x360 with 1 Axes>"
      ]
     },
     "metadata": {
      "needs_background": "light"
     },
     "output_type": "display_data"
    }
   ],
   "source": [
    "pd.DataFrame(training2.history).plot(figsize=(8,5))\n",
    "plt.gca().set_ylim(0,1)\n",
    "plt.show()"
   ]
  },
  {
   "cell_type": "markdown",
   "id": "bd0fb1af",
   "metadata": {},
   "source": [
    "## Model Comparison"
   ]
  },
  {
   "cell_type": "code",
   "execution_count": 146,
   "id": "52b4b63b",
   "metadata": {},
   "outputs": [
    {
     "data": {
      "text/html": [
       "<div>\n",
       "<style scoped>\n",
       "    .dataframe tbody tr th:only-of-type {\n",
       "        vertical-align: middle;\n",
       "    }\n",
       "\n",
       "    .dataframe tbody tr th {\n",
       "        vertical-align: top;\n",
       "    }\n",
       "\n",
       "    .dataframe thead th {\n",
       "        text-align: right;\n",
       "    }\n",
       "</style>\n",
       "<table border=\"1\" class=\"dataframe\">\n",
       "  <thead>\n",
       "    <tr style=\"text-align: right;\">\n",
       "      <th></th>\n",
       "      <th>Model Name</th>\n",
       "      <th>Training Time</th>\n",
       "      <th>Loss</th>\n",
       "      <th>Validation Accuracy</th>\n",
       "    </tr>\n",
       "  </thead>\n",
       "  <tbody>\n",
       "    <tr>\n",
       "      <th>0</th>\n",
       "      <td>CNN (Relu)</td>\n",
       "      <td>1829.285218</td>\n",
       "      <td>0.032302</td>\n",
       "      <td>0.991270</td>\n",
       "    </tr>\n",
       "    <tr>\n",
       "      <th>1</th>\n",
       "      <td>CNN (Sigmoid)</td>\n",
       "      <td>1886.933082</td>\n",
       "      <td>0.044945</td>\n",
       "      <td>0.985397</td>\n",
       "    </tr>\n",
       "  </tbody>\n",
       "</table>\n",
       "</div>"
      ],
      "text/plain": [
       "      Model Name  Training Time      Loss  Validation Accuracy\n",
       "0     CNN (Relu)    1829.285218  0.032302             0.991270\n",
       "1  CNN (Sigmoid)    1886.933082  0.044945             0.985397"
      ]
     },
     "metadata": {},
     "output_type": "display_data"
    }
   ],
   "source": [
    "df = {\"Model Name\": [\"CNN (Relu)\",\"CNN (Sigmoid)\"],\n",
    "      \"Training Time\": [cnn1_time, cnn2_time],\n",
    "      \"Loss\": [metrics_cnn[0],metrics2_cnn[0]],\n",
    "      \"Validation Accuracy\": [metrics_cnn[1],metrics2_cnn[1]]\n",
    "     }\n",
    "df = pd.DataFrame(df)\n",
    "display(df)"
   ]
  },
  {
   "cell_type": "markdown",
   "id": "973eaae1",
   "metadata": {},
   "source": [
    "In this section two CNN models were created; one using a Relu activation function and one using a Sigmoid activation function. From the MLP model results in the previous section, we expect the Relu model to perform better than the Sigmoid. \n",
    "\n",
    "The output for our CNN models was quite surprising, especially the loss/accuracy plots. Both models performed extremely well on both the training and validation datasets resulting in very high classification accuracy and low loss values. When comparing the metric plots for both models, the Relu train/validation accuracy starts at a very high value and then plateaus from about epochs 3-20. The Sigmoid model, which had a very similar ending accuracy to the Relu model exhibits quite different behavior during fitting. The Sigmoid model's accuracy starts very low for training/validation but exponentially increases at around 6 epochs before maintaining a constant high value at about 12 epochs. \n",
    "\n",
    "Overall, the Relu model performs marginally better than the Sigmoid one (<0.1) in terms of accuracy. Both models took about 1800 seconds to train which indicates that activation function has no effect on training time. "
   ]
  }
 ],
 "metadata": {
  "kernelspec": {
   "display_name": "Python 3 (ipykernel)",
   "language": "python",
   "name": "python3"
  },
  "language_info": {
   "codemirror_mode": {
    "name": "ipython",
    "version": 3
   },
   "file_extension": ".py",
   "mimetype": "text/x-python",
   "name": "python",
   "nbconvert_exporter": "python",
   "pygments_lexer": "ipython3",
   "version": "3.8.13"
  }
 },
 "nbformat": 4,
 "nbformat_minor": 5
}
